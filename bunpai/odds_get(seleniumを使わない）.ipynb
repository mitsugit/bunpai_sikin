{
 "cells": [
  {
   "cell_type": "code",
   "execution_count": 1,
   "metadata": {},
   "outputs": [],
   "source": [
    "import pandas as pd\n",
    "import numpy as np \n",
    "from datetime import datetime as dt\n",
    "from time import sleep\n",
    "import copy\n",
    "# !pip install openpyxl\n",
    "import openpyxl\n",
    "import urllib.request\n",
    "from bs4 import BeautifulSoup\n",
    "import time\n",
    "from selenium import webdriver\n",
    "from selenium.webdriver.common.keys import Keys\n",
    "from selenium.webdriver.chrome.options import Options\n",
    "import requests\n",
    "# import lxml.html as parser\n",
    "import re\n",
    "import pprint\n",
    "\n",
    "import math\n",
    "\n",
    "# import urllib2\n",
    "# import pandas as pd\n",
    "\n",
    "import lxml.html"
   ]
  },
  {
   "cell_type": "code",
   "execution_count": 2,
   "metadata": {},
   "outputs": [],
   "source": [
    "\n",
    "url = \"https://race.netkeiba.com/?pid=race_list\"\n",
    "\n",
    "html = urllib.request.urlopen(url)\n",
    "\n",
    "# xpath指定できるようにlxml用にhtml2を作成\n",
    "\n",
    "html2 = urllib.request.urlopen(url)\n",
    "\n",
    "soup = BeautifulSoup(html, \"html.parser\")\n",
    "\n",
    "dom = lxml.html.fromstring(html2.read())"
   ]
  },
  {
   "cell_type": "code",
   "execution_count": 3,
   "metadata": {},
   "outputs": [
    {
     "data": {
      "text/plain": [
       "['06/08(土)', '06/09(日)', '06/15(土)', '06/16(日)', '06/23(日)']"
      ]
     },
     "execution_count": 3,
     "metadata": {},
     "output_type": "execute_result"
    }
   ],
   "source": [
    "# soup.find(id=\"race_list_header\").text.strip(\"\\n\")\n",
    "pre_kaisaibi_list=soup.select(\".DateList_Box\")[0].select(\"a\")\n",
    "\n",
    "kaisaibi_list = []\n",
    "for i in pre_kaisaibi_list:\n",
    "    kaisaibi_list.append(i.text)\n",
    "kaisaibi_list"
   ]
  },
  {
   "cell_type": "code",
   "execution_count": 4,
   "metadata": {},
   "outputs": [],
   "source": [
    "target_kaisai = \"3回東京6日目\"\n",
    "target_race = \"11\""
   ]
  },
  {
   "cell_type": "code",
   "execution_count": 5,
   "metadata": {},
   "outputs": [],
   "source": [
    "kaisai_list = []\n",
    "kaisaidata = soup.select('p[class=\"kaisaidata\"]')\n",
    "\n",
    "    "
   ]
  },
  {
   "cell_type": "code",
   "execution_count": 6,
   "metadata": {},
   "outputs": [],
   "source": [
    "for i in range(len(kaisaidata)):\n",
    "    kaisai_list.append((kaisaidata[i].text))"
   ]
  },
  {
   "cell_type": "code",
   "execution_count": 7,
   "metadata": {},
   "outputs": [
    {
     "data": {
      "text/plain": [
       "['3回東京6日目', '3回阪神6日目', '1回函館2日目']"
      ]
     },
     "execution_count": 7,
     "metadata": {},
     "output_type": "execute_result"
    }
   ],
   "source": [
    "kaisai_list"
   ]
  },
  {
   "cell_type": "code",
   "execution_count": 8,
   "metadata": {},
   "outputs": [
    {
     "name": "stdout",
     "output_type": "stream",
     "text": [
      "kaisai_list ['3回東京6日目', '3回阪神6日目', '1回函館2日目']\n"
     ]
    }
   ],
   "source": [
    "print(\"kaisai_list\",kaisai_list)"
   ]
  },
  {
   "cell_type": "code",
   "execution_count": 9,
   "metadata": {},
   "outputs": [],
   "source": [
    "# 開催辞書を作成（参考）\n",
    "namae_list = []\n",
    "kaisai_dict = {}\n",
    "for i, _s in enumerate(kaisai_list):\n",
    "    namae_list.append(\"kaisai_\"+str(i+1))\n",
    "    kaisai_dict.update({namae_list[i] : _s})\n",
    "\n",
    "#     print(i+1,\"番人気\", _s,\"倍\")\n",
    "#     nanban.append(\"ninki_\"+str(i+1))\n",
    "#     ninki_dict.update({ninki_list[i]  :  _s})"
   ]
  },
  {
   "cell_type": "code",
   "execution_count": 10,
   "metadata": {},
   "outputs": [
    {
     "data": {
      "text/plain": [
       "dict_keys(['kaisai_1', 'kaisai_2', 'kaisai_3'])"
      ]
     },
     "execution_count": 10,
     "metadata": {},
     "output_type": "execute_result"
    }
   ],
   "source": [
    "kaisai_dict.keys()"
   ]
  },
  {
   "cell_type": "code",
   "execution_count": 11,
   "metadata": {},
   "outputs": [],
   "source": [
    "counter = 0\n",
    "\n",
    "for i in kaisai_list:\n",
    "    \n",
    "    if target_kaisai in i:\n",
    "        kai = counter\n",
    "        break\n",
    "    else:\n",
    "        kai = \"\"\n",
    "    counter += 1\n"
   ]
  },
  {
   "cell_type": "code",
   "execution_count": 12,
   "metadata": {
    "scrolled": true
   },
   "outputs": [
    {
     "name": "stdout",
     "output_type": "stream",
     "text": [
      "0\n"
     ]
    }
   ],
   "source": [
    "if kai != \"\":\n",
    "    print(kai)"
   ]
  },
  {
   "cell_type": "code",
   "execution_count": 13,
   "metadata": {},
   "outputs": [
    {
     "data": {
      "text/plain": [
       "1"
      ]
     },
     "execution_count": 13,
     "metadata": {},
     "output_type": "execute_result"
    }
   ],
   "source": [
    "kai += 1\n",
    "kai"
   ]
  },
  {
   "cell_type": "code",
   "execution_count": 14,
   "metadata": {},
   "outputs": [],
   "source": [
    " kai = str(kai)"
   ]
  },
  {
   "cell_type": "code",
   "execution_count": 15,
   "metadata": {},
   "outputs": [],
   "source": [
    "\n",
    "\n",
    "# dom.xpath('//*[@id=\"race_list_body\"]/div[1]/dl[1]/dd/ul/li[3]/dl/dt/a/img/@alt')\n",
    "# dom.xpath('//*[@id=\"race_list_body\"]/div[1]/'+'dl['+kai+']//div[@class=\"racename\"]/a')\n",
    "\n",
    "\n",
    "#xpathを見比べて可変すべき要素を検討する\n",
    "#dl[ ]が開催場、li[ ]がレース数によって変わることを確認\n",
    "\n",
    "# １列目の一行目\n",
    "'//*[@id=\"race_list_body\"]/div[1]/dl[1]/dd/ul/li[1]/dl/dd/div[1]/a'\n",
    "# ２列目の一行目\n",
    "'//*[@id=\"race_list_body\"]/div[1]/dl[2]/dd/ul/li[1]/dl/dd/div[1]/a'\n",
    "# １列目の2行目\n",
    "'//*[@id=\"race_list_body\"]/div[1]/dl[1]/dd/ul/li[2]/dl/dd/div[1]/a'\n",
    "\n",
    "\n",
    "#　可変できるように、xpathの切り分けをする\n",
    "\n",
    "base_left = '//*[@id=\"race_list_body\"]/div[1]/dl['\n",
    "base_middle = ']/dd/ul/li['\n",
    "base_right = ']/dl/dt/a/img/@alt'\n",
    "\n",
    "base_href = ']/dl/dd/div[1]/a/@href'"
   ]
  },
  {
   "cell_type": "code",
   "execution_count": 16,
   "metadata": {},
   "outputs": [
    {
     "data": {
      "text/plain": [
       "12"
      ]
     },
     "execution_count": 16,
     "metadata": {},
     "output_type": "execute_result"
    }
   ],
   "source": [
    "# dom.xpath('//p[@class=\"kaisaidata\"][contains(text(),\"京都\")]')[0].text\n",
    "# dom.xpath('//p[@class=\"kaisaidata\"][contains(text(),target_kaisai)]')[0].text\n",
    "# dom.xpath('//*[@id=\"race_list_body\"]/div[1]/'+'dl['+kai+']/dd/div[1]/a)\n",
    "# //*[@id=\"race_list_body\"]/div[1]/dl[1]/dd/ul/li[1]/dl/dd/div[1]/a\n",
    "\n",
    "# print('//*[@id=\"race_list_body\"]/div[1]/'+'dl['+kai+']/dd/ul/li[1]/dl/dd/div[1]/a')\n",
    "# dom.xpath('//*[@id=\"race_list_body\"]/div[1]/'+'dl['+kai+']/dd/ul/li[1]/dl/dd/div[1]/a')[0].text\n",
    "# dom.xpath('//*[@id=\"race_list_body\"]/div[1]/'+'dl['+kai+']//div[@class=\"racename\"]/a/@href')\n",
    "\n",
    "\n",
    "\n",
    "# 平日に実行すると、４レースしか表示されない等になるため、対象の開催場のレース数を確認する\n",
    "howmany_race = len(dom.xpath('//*[@id=\"race_list_body\"]/div[1]/'+'dl['+kai+']//div[@class=\"racename\"]/a/@href'))\n",
    "howmany_race"
   ]
  },
  {
   "cell_type": "code",
   "execution_count": 17,
   "metadata": {},
   "outputs": [
    {
     "name": "stdout",
     "output_type": "stream",
     "text": [
      "1\n",
      "1R\n",
      "2\n",
      "2R\n",
      "3\n",
      "3R\n",
      "4\n",
      "4R\n",
      "5\n",
      "5R\n",
      "6\n",
      "6R\n",
      "7\n",
      "7R\n",
      "8\n",
      "8R\n",
      "9\n",
      "9R\n",
      "10\n",
      "10R\n",
      "11\n",
      "11R\n",
      "12\n",
      "12R\n"
     ]
    }
   ],
   "source": [
    "# 　現時点で表示されているレースのリストを作成\n",
    "\n",
    "number_race_list = []\n",
    "for i in range(howmany_race):\n",
    "    print(str(i+1))\n",
    "    position = str(i+1)\n",
    "    print(dom.xpath(base_left + kai + base_middle + position + base_right)[0])\n",
    "    number_race = dom.xpath(base_left + kai + base_middle + position + base_right)[0]\n",
    "    number_race_list.append(number_race)\n",
    "    \n",
    "    "
   ]
  },
  {
   "cell_type": "code",
   "execution_count": 18,
   "metadata": {},
   "outputs": [],
   "source": [
    "# レースからRの文字を取り除く\n",
    "number_race_list = [i.replace(\"R\",\"\") for i in number_race_list]"
   ]
  },
  {
   "cell_type": "code",
   "execution_count": 19,
   "metadata": {},
   "outputs": [],
   "source": [
    "#　target_race がリストの何番目にあるかを表示\n",
    "\n",
    "nanbanme = number_race_list.index(target_race) + 1\n",
    "nanbanme = str(nanbanme)"
   ]
  },
  {
   "cell_type": "code",
   "execution_count": 20,
   "metadata": {},
   "outputs": [
    {
     "data": {
      "text/plain": [
       "'https://race.netkeiba.com//?pid=race_old&id=c201905030611'"
      ]
     },
     "execution_count": 20,
     "metadata": {},
     "output_type": "execute_result"
    }
   ],
   "source": [
    "# 対象レースのURLを取得する\n",
    "race_url = dom.xpath(base_left + kai + base_middle + nanbanme + base_href )[0]\n",
    "\n",
    "race_link=\"https://race.netkeiba.com/\"+race_url\n",
    "\n",
    "race_link"
   ]
  },
  {
   "cell_type": "code",
   "execution_count": 21,
   "metadata": {},
   "outputs": [
    {
     "data": {
      "text/plain": [
       "'https://race.netkeiba.com//?pid=race_old&id=c201905030611'"
      ]
     },
     "execution_count": 21,
     "metadata": {},
     "output_type": "execute_result"
    }
   ],
   "source": [
    "race_link"
   ]
  },
  {
   "cell_type": "code",
   "execution_count": 22,
   "metadata": {},
   "outputs": [],
   "source": [
    "url2 = race_link"
   ]
  },
  {
   "cell_type": "code",
   "execution_count": 23,
   "metadata": {},
   "outputs": [],
   "source": [
    "# # 変更後不要\n",
    "# html3 = urllib.request.urlopen(url2)\n",
    "\n",
    "\n",
    "\n",
    "# html4 = urllib.request.urlopen(url2)\n",
    "\n",
    "# soup = BeautifulSoup(html3, \"html.parser\")\n",
    "\n",
    "# dom = lxml.html.fromstring(html4.read())"
   ]
  },
  {
   "cell_type": "code",
   "execution_count": 24,
   "metadata": {},
   "outputs": [
    {
     "data": {
      "text/plain": [
       "'/?pid=odds&id=c201905030611&mode=top'"
      ]
     },
     "execution_count": 24,
     "metadata": {},
     "output_type": "execute_result"
    }
   ],
   "source": [
    "# # 変更後不要\n",
    "# odds_page=soup.select('.race_navi_odds')[0].a.get(\"href\")\n",
    "# odds_page"
   ]
  },
  {
   "cell_type": "code",
   "execution_count": 25,
   "metadata": {},
   "outputs": [
    {
     "data": {
      "text/plain": [
       "'https://race.netkeiba.com//?pid=odds&id=c201905030611&mode=top'"
      ]
     },
     "execution_count": 25,
     "metadata": {},
     "output_type": "execute_result"
    }
   ],
   "source": [
    "# # 変更後不要\n",
    "# url3=\"https://race.netkeiba.com/\"+ odds_page\n",
    "# url3"
   ]
  },
  {
   "cell_type": "code",
   "execution_count": 26,
   "metadata": {},
   "outputs": [],
   "source": [
    "# # 変更後不要\n",
    "# html5 = urllib.request.urlopen(url3)\n",
    "\n",
    "# # xpath指定できるようにlxml用にhtml2を作成\n",
    "\n",
    "# html6 = urllib.request.urlopen(url3)\n",
    "\n",
    "# soup = BeautifulSoup(html5, \"html.parser\")\n",
    "\n",
    "# dom = lxml.html.fromstring(html6.read())"
   ]
  },
  {
   "cell_type": "code",
   "execution_count": 23,
   "metadata": {},
   "outputs": [],
   "source": [
    "# 6月１６日以降、オッズ一覧ページの表データを入れられなくなった。　出馬表ページは可能なのでコードを変更する\n",
    "\n",
    "# # 変更前コード\n",
    "# dfs = pd.read_html(url3,header=0 )\n",
    "\n",
    "dfs = pd.read_html(url2,header=1 )\n"
   ]
  },
  {
   "cell_type": "code",
   "execution_count": 68,
   "metadata": {},
   "outputs": [
    {
     "data": {
      "text/html": [
       "<div>\n",
       "<style scoped>\n",
       "    .dataframe tbody tr th:only-of-type {\n",
       "        vertical-align: middle;\n",
       "    }\n",
       "\n",
       "    .dataframe tbody tr th {\n",
       "        vertical-align: top;\n",
       "    }\n",
       "\n",
       "    .dataframe thead th {\n",
       "        text-align: right;\n",
       "    }\n",
       "</style>\n",
       "<table border=\"1\" class=\"dataframe\">\n",
       "  <thead>\n",
       "    <tr style=\"text-align: right;\">\n",
       "      <th></th>\n",
       "      <th>枠番</th>\n",
       "      <th>馬番</th>\n",
       "      <th>馬名</th>\n",
       "      <th>性齢</th>\n",
       "      <th>負担重量</th>\n",
       "      <th>騎手</th>\n",
       "      <th>厩舎</th>\n",
       "      <th>馬体重</th>\n",
       "      <th>単勝オッズ</th>\n",
       "      <th>人気</th>\n",
       "    </tr>\n",
       "  </thead>\n",
       "  <tbody>\n",
       "    <tr>\n",
       "      <th>0</th>\n",
       "      <td>1</td>\n",
       "      <td>1</td>\n",
       "      <td>ワイドファラオ</td>\n",
       "      <td>牡3</td>\n",
       "      <td>57.0</td>\n",
       "      <td>福永</td>\n",
       "      <td>角居</td>\n",
       "      <td>NaN</td>\n",
       "      <td>5.8</td>\n",
       "      <td>3.0</td>\n",
       "    </tr>\n",
       "    <tr>\n",
       "      <th>1</th>\n",
       "      <td>2</td>\n",
       "      <td>2</td>\n",
       "      <td>イメル</td>\n",
       "      <td>牡3</td>\n",
       "      <td>56.0</td>\n",
       "      <td>丸山</td>\n",
       "      <td>音無</td>\n",
       "      <td>NaN</td>\n",
       "      <td>57.3</td>\n",
       "      <td>11.0</td>\n",
       "    </tr>\n",
       "    <tr>\n",
       "      <th>2</th>\n",
       "      <td>2</td>\n",
       "      <td>3</td>\n",
       "      <td>ヴァイトブリック</td>\n",
       "      <td>牡3</td>\n",
       "      <td>56.0</td>\n",
       "      <td>戸崎圭</td>\n",
       "      <td>和田郎</td>\n",
       "      <td>NaN</td>\n",
       "      <td>9.1</td>\n",
       "      <td>5.0</td>\n",
       "    </tr>\n",
       "    <tr>\n",
       "      <th>3</th>\n",
       "      <td>3</td>\n",
       "      <td>4</td>\n",
       "      <td>エルモンストロ</td>\n",
       "      <td>牡3</td>\n",
       "      <td>56.0</td>\n",
       "      <td>三浦</td>\n",
       "      <td>角居</td>\n",
       "      <td>NaN</td>\n",
       "      <td>41.5</td>\n",
       "      <td>9.0</td>\n",
       "    </tr>\n",
       "    <tr>\n",
       "      <th>4</th>\n",
       "      <td>3</td>\n",
       "      <td>5</td>\n",
       "      <td>サトノギャロス</td>\n",
       "      <td>牡3</td>\n",
       "      <td>56.0</td>\n",
       "      <td>川島</td>\n",
       "      <td>西園</td>\n",
       "      <td>NaN</td>\n",
       "      <td>除外</td>\n",
       "      <td>NaN</td>\n",
       "    </tr>\n",
       "    <tr>\n",
       "      <th>5</th>\n",
       "      <td>4</td>\n",
       "      <td>6</td>\n",
       "      <td>デアフルーグ</td>\n",
       "      <td>牡3</td>\n",
       "      <td>56.0</td>\n",
       "      <td>津村</td>\n",
       "      <td>鈴木伸</td>\n",
       "      <td>NaN</td>\n",
       "      <td>3.4</td>\n",
       "      <td>1.0</td>\n",
       "    </tr>\n",
       "    <tr>\n",
       "      <th>6</th>\n",
       "      <td>4</td>\n",
       "      <td>7</td>\n",
       "      <td>ザディファレンス</td>\n",
       "      <td>牡3</td>\n",
       "      <td>56.0</td>\n",
       "      <td>野中</td>\n",
       "      <td>相沢</td>\n",
       "      <td>NaN</td>\n",
       "      <td>54.5</td>\n",
       "      <td>10.0</td>\n",
       "    </tr>\n",
       "    <tr>\n",
       "      <th>7</th>\n",
       "      <td>5</td>\n",
       "      <td>8</td>\n",
       "      <td>デュープロセス</td>\n",
       "      <td>牡3</td>\n",
       "      <td>56.0</td>\n",
       "      <td>Ｍデムーロ</td>\n",
       "      <td>安田隆</td>\n",
       "      <td>NaN</td>\n",
       "      <td>3.4</td>\n",
       "      <td>2.0</td>\n",
       "    </tr>\n",
       "    <tr>\n",
       "      <th>8</th>\n",
       "      <td>5</td>\n",
       "      <td>9</td>\n",
       "      <td>ロードグラディオ</td>\n",
       "      <td>牡3</td>\n",
       "      <td>56.0</td>\n",
       "      <td>内田博</td>\n",
       "      <td>西浦</td>\n",
       "      <td>NaN</td>\n",
       "      <td>除外</td>\n",
       "      <td>NaN</td>\n",
       "    </tr>\n",
       "    <tr>\n",
       "      <th>9</th>\n",
       "      <td>6</td>\n",
       "      <td>10</td>\n",
       "      <td>ヴァニラアイス</td>\n",
       "      <td>牝3</td>\n",
       "      <td>54.0</td>\n",
       "      <td>田辺</td>\n",
       "      <td>高柳大</td>\n",
       "      <td>NaN</td>\n",
       "      <td>18.1</td>\n",
       "      <td>7.0</td>\n",
       "    </tr>\n",
       "    <tr>\n",
       "      <th>10</th>\n",
       "      <td>6</td>\n",
       "      <td>11</td>\n",
       "      <td>ダンツキャッスル</td>\n",
       "      <td>牡3</td>\n",
       "      <td>56.0</td>\n",
       "      <td>幸</td>\n",
       "      <td>谷</td>\n",
       "      <td>NaN</td>\n",
       "      <td>13.0</td>\n",
       "      <td>6.0</td>\n",
       "    </tr>\n",
       "    <tr>\n",
       "      <th>11</th>\n",
       "      <td>7</td>\n",
       "      <td>12</td>\n",
       "      <td>オンザウェイ</td>\n",
       "      <td>牡3</td>\n",
       "      <td>56.0</td>\n",
       "      <td>柴田善</td>\n",
       "      <td>大和田</td>\n",
       "      <td>NaN</td>\n",
       "      <td>70.7</td>\n",
       "      <td>13.0</td>\n",
       "    </tr>\n",
       "    <tr>\n",
       "      <th>12</th>\n",
       "      <td>7</td>\n",
       "      <td>13</td>\n",
       "      <td>ニューモニュメント</td>\n",
       "      <td>牡3</td>\n",
       "      <td>56.0</td>\n",
       "      <td>石橋脩</td>\n",
       "      <td>小崎</td>\n",
       "      <td>NaN</td>\n",
       "      <td>18.2</td>\n",
       "      <td>8.0</td>\n",
       "    </tr>\n",
       "    <tr>\n",
       "      <th>13</th>\n",
       "      <td>8</td>\n",
       "      <td>14</td>\n",
       "      <td>ノーヴァレンダ</td>\n",
       "      <td>牡3</td>\n",
       "      <td>56.0</td>\n",
       "      <td>北村友</td>\n",
       "      <td>斉藤崇</td>\n",
       "      <td>NaN</td>\n",
       "      <td>8.8</td>\n",
       "      <td>4.0</td>\n",
       "    </tr>\n",
       "    <tr>\n",
       "      <th>14</th>\n",
       "      <td>8</td>\n",
       "      <td>15</td>\n",
       "      <td>アシャカトブ</td>\n",
       "      <td>牡3</td>\n",
       "      <td>56.0</td>\n",
       "      <td>大野</td>\n",
       "      <td>小笠</td>\n",
       "      <td>NaN</td>\n",
       "      <td>58.1</td>\n",
       "      <td>12.0</td>\n",
       "    </tr>\n",
       "  </tbody>\n",
       "</table>\n",
       "</div>"
      ],
      "text/plain": [
       "    枠番  馬番         馬名  性齢  負担重量     騎手   厩舎  馬体重 単勝オッズ    人気\n",
       "0    1   1    ワイドファラオ  牡3  57.0     福永   角居  NaN   5.8   3.0\n",
       "1    2   2        イメル  牡3  56.0     丸山   音無  NaN  57.3  11.0\n",
       "2    2   3   ヴァイトブリック  牡3  56.0    戸崎圭  和田郎  NaN   9.1   5.0\n",
       "3    3   4    エルモンストロ  牡3  56.0     三浦   角居  NaN  41.5   9.0\n",
       "4    3   5    サトノギャロス  牡3  56.0     川島   西園  NaN    除外   NaN\n",
       "5    4   6     デアフルーグ  牡3  56.0     津村  鈴木伸  NaN   3.4   1.0\n",
       "6    4   7   ザディファレンス  牡3  56.0     野中   相沢  NaN  54.5  10.0\n",
       "7    5   8    デュープロセス  牡3  56.0  Ｍデムーロ  安田隆  NaN   3.4   2.0\n",
       "8    5   9   ロードグラディオ  牡3  56.0    内田博   西浦  NaN    除外   NaN\n",
       "9    6  10    ヴァニラアイス  牝3  54.0     田辺  高柳大  NaN  18.1   7.0\n",
       "10   6  11   ダンツキャッスル  牡3  56.0      幸    谷  NaN  13.0   6.0\n",
       "11   7  12     オンザウェイ  牡3  56.0    柴田善  大和田  NaN  70.7  13.0\n",
       "12   7  13  ニューモニュメント  牡3  56.0    石橋脩   小崎  NaN  18.2   8.0\n",
       "13   8  14    ノーヴァレンダ  牡3  56.0    北村友  斉藤崇  NaN   8.8   4.0\n",
       "14   8  15     アシャカトブ  牡3  56.0     大野   小笠  NaN  58.1  12.0"
      ]
     },
     "execution_count": 68,
     "metadata": {},
     "output_type": "execute_result"
    }
   ],
   "source": [
    "dfs[0]"
   ]
  },
  {
   "cell_type": "code",
   "execution_count": 24,
   "metadata": {},
   "outputs": [],
   "source": [
    "# # 変更前コード\n",
    "# dfs[0][\"予想オッズ\"]\n",
    "# tan_odds_list = dfs[0][\"予想オッズ\"].values.tolist()\n",
    "\n",
    "dfs[0][\"単勝オッズ\"]\n",
    "tan_odds_list = dfs[0][\"単勝オッズ\"].values.tolist()"
   ]
  },
  {
   "cell_type": "code",
   "execution_count": 27,
   "metadata": {},
   "outputs": [
    {
     "data": {
      "text/plain": [
       "['6.3',\n",
       " '54.0',\n",
       " '9.2',\n",
       " '42.1',\n",
       " '3.3',\n",
       " '57.9',\n",
       " '3.4',\n",
       " '除外',\n",
       " '18.9',\n",
       " '13.6',\n",
       " '74.4',\n",
       " '18.7',\n",
       " '8.3',\n",
       " '47.1']"
      ]
     },
     "execution_count": 27,
     "metadata": {},
     "output_type": "execute_result"
    }
   ],
   "source": [
    "tan_odds_list"
   ]
  },
  {
   "cell_type": "code",
   "execution_count": 30,
   "metadata": {},
   "outputs": [
    {
     "data": {
      "text/plain": [
       "13"
      ]
     },
     "execution_count": 30,
     "metadata": {},
     "output_type": "execute_result"
    }
   ],
   "source": [
    "# if \"除外\" in tan_odds_list:\n",
    "#     tan_odds_list.remove(\"除外\")\n",
    "# else:\n",
    "#     print(\"除外なし\")\n",
    "tan_odds_list = [e for e in tan_odds_list if e  != \"除外\"]\n",
    "\n",
    "tan_odds_list\n"
   ]
  },
  {
   "cell_type": "code",
   "execution_count": 80,
   "metadata": {},
   "outputs": [],
   "source": [
    "# 文字列　→ float型へ\n",
    "tan_odds_list = [float(i) for i in tan_odds_list]"
   ]
  },
  {
   "cell_type": "code",
   "execution_count": 85,
   "metadata": {},
   "outputs": [
    {
     "data": {
      "text/plain": [
       "[3.4, 3.4, 5.8, 8.8, 9.1, 13.0, 18.1, 18.2, 41.5, 54.5, 57.3, 58.1, 70.7]"
      ]
     },
     "execution_count": 85,
     "metadata": {},
     "output_type": "execute_result"
    }
   ],
   "source": [
    "# 並び替え\n",
    "tan_odds_list.sort()\n",
    "tan_odds_list\n"
   ]
  },
  {
   "cell_type": "code",
   "execution_count": 30,
   "metadata": {},
   "outputs": [],
   "source": [
    "# 関数化"
   ]
  },
  {
   "cell_type": "code",
   "execution_count": 31,
   "metadata": {},
   "outputs": [],
   "source": [
    "\n",
    "# # 変更前（変更後は不要になった）\n",
    "# def odds_page(url2):\n",
    "#     html3 = urllib.request.urlopen(url2)\n",
    "\n",
    "#     soup = BeautifulSoup(html3, \"html.parser\")\n",
    "\n",
    "#     odds_page=soup.select('.race_navi_odds')[0].a.get(\"href\")\n",
    "\n",
    "#     url3=\"https://race.netkeiba.com/\"+ odds_page\n",
    "\n",
    "#     return url3"
   ]
  },
  {
   "cell_type": "code",
   "execution_count": 58,
   "metadata": {},
   "outputs": [],
   "source": [
    "budget = 10000\n",
    "def gouseiodds(tan_odds_list,budget):\n",
    "    B_list = []\n",
    "    A = tan_odds_list[0]*100\n",
    " \n",
    "    #return A\n",
    "    for i in tan_odds_list:\n",
    "        B_list.append(A/i)\n",
    "    #print(B_list)\n",
    "    C = [A/H for H in tan_odds_list]\n",
    "    #print(C)\n",
    "    C = [math.floor(A/H) for H in tan_odds_list]\n",
    "    #print(C)\n",
    "    C = sum([math.floor(A/H)  for  H in tan_odds_list])  #小数切り捨て\n",
    "    #print(C)\n",
    "    gouseiodds = A/C\n",
    "    #print(gouseiodds)\n",
    "    gouseiodds = ('{:.2f}'.format(gouseiodds))   #小数点３位以下四捨五入\n",
    "    return gouseiodds"
   ]
  },
  {
   "cell_type": "code",
   "execution_count": null,
   "metadata": {},
   "outputs": [],
   "source": []
  },
  {
   "cell_type": "code",
   "execution_count": 87,
   "metadata": {},
   "outputs": [],
   "source": [
    "def rafine(target_odds_list,budget):\n",
    "\n",
    "\n",
    "    odds = target_odds_list\n",
    "\n",
    "    each_bet = []\n",
    "\n",
    "    C = 0\n",
    "\n",
    "    # リスト内の最小値を取得し、１００を乗じる\n",
    "    A = min(odds) * 100\n",
    "\n",
    "    print(A)\n",
    "    # 資金を分配する\n",
    "\n",
    "\n",
    "    budget = int(budget)\n",
    "\n",
    "    # オッズの最小値を各オッズで割ったものをリスト化する\n",
    "    B_list = [A / i for i in odds]\n",
    "\n",
    "    # 小数切り捨て\n",
    "    B_list = list(map(lambda x: math.floor(x), B_list))\n",
    "\n",
    "    print(B_list)\n",
    "\n",
    "    C = sum(B_list)\n",
    "\n",
    "    print(\"C\", C)\n",
    "    ratio = [B_list[i] / C * 100 for i in range(0, len(B_list))]\n",
    "\n",
    "    ratio = np.round(ratio, 1)\n",
    "\n",
    "    print(\"ratio\", ratio)\n",
    "\n",
    "    # for i in ratio:\n",
    "    #     each_bet.append(np.round(budget*i/100,-2))\n",
    "\n",
    "    each_bet = [np.round(budget * i / 100, -2) for i in ratio]\n",
    "\n",
    "\n",
    "    return_list = [xx * yy for (xx,yy) in zip(each_bet,target_odds_list)]\n",
    "\n",
    "\n",
    "\n",
    "    print(each_bet)\n",
    "\n",
    "    print(sum(each_bet))\n",
    "\n",
    "    total_bet = sum(each_bet)\n",
    "\n",
    "    profit_list = [x-total_bet for x in return_list]\n",
    "\n",
    "    print(profit_list)\n",
    "    return ratio,each_bet,return_list,total_bet,profit_list"
   ]
  },
  {
   "cell_type": "code",
   "execution_count": 60,
   "metadata": {},
   "outputs": [
    {
     "data": {
      "text/plain": [
       "'0.75'"
      ]
     },
     "execution_count": 60,
     "metadata": {},
     "output_type": "execute_result"
    }
   ],
   "source": [
    "gouseiodds(target_odds_list,budget)"
   ]
  },
  {
   "cell_type": "code",
   "execution_count": 96,
   "metadata": {},
   "outputs": [],
   "source": []
  },
  {
   "cell_type": "code",
   "execution_count": 97,
   "metadata": {},
   "outputs": [
    {
     "data": {
      "text/plain": [
       "{'ninki_1': 2.7, 'ninki_2': 10.3, 'ninki_3': 13.1, 'ninki_4': 15.6}"
      ]
     },
     "execution_count": 97,
     "metadata": {},
     "output_type": "execute_result"
    }
   ],
   "source": [
    "ninki_dict"
   ]
  },
  {
   "cell_type": "code",
   "execution_count": 114,
   "metadata": {},
   "outputs": [
    {
     "name": "stdout",
     "output_type": "stream",
     "text": [
      "10.3\n",
      "15.6\n"
     ]
    },
    {
     "data": {
      "text/plain": [
       "[10.3, 15.6]"
      ]
     },
     "execution_count": 114,
     "metadata": {},
     "output_type": "execute_result"
    }
   ],
   "source": []
  },
  {
   "cell_type": "code",
   "execution_count": 109,
   "metadata": {},
   "outputs": [
    {
     "name": "stdout",
     "output_type": "stream",
     "text": [
      "1030.0\n",
      "[100, 66]\n",
      "C 166\n",
      "ratio [60.2 39.8]\n",
      "[6000.0, 4000.0]\n",
      "10000.0\n",
      "[51800.00000000001, 52400.0]\n"
     ]
    }
   ],
   "source": [
    "ratio,each_bet,return_list,total_bet,profit_list = rafine(target_ninki_list,budget)"
   ]
  },
  {
   "cell_type": "code",
   "execution_count": 110,
   "metadata": {},
   "outputs": [
    {
     "data": {
      "text/plain": [
       "[6000.0, 4000.0]"
      ]
     },
     "execution_count": 110,
     "metadata": {},
     "output_type": "execute_result"
    }
   ],
   "source": [
    "each_bet"
   ]
  },
  {
   "cell_type": "code",
   "execution_count": 111,
   "metadata": {},
   "outputs": [
    {
     "data": {
      "text/plain": [
       "[10.3, 13.1, 15.6]"
      ]
     },
     "execution_count": 111,
     "metadata": {},
     "output_type": "execute_result"
    }
   ],
   "source": [
    "tan_odds_list"
   ]
  },
  {
   "cell_type": "code",
   "execution_count": null,
   "metadata": {},
   "outputs": [],
   "source": []
  }
 ],
 "metadata": {
  "kernelspec": {
   "display_name": "Python 3",
   "language": "python",
   "name": "python3"
  },
  "language_info": {
   "codemirror_mode": {
    "name": "ipython",
    "version": 3
   },
   "file_extension": ".py",
   "mimetype": "text/x-python",
   "name": "python",
   "nbconvert_exporter": "python",
   "pygments_lexer": "ipython3",
   "version": "3.6.5"
  }
 },
 "nbformat": 4,
 "nbformat_minor": 2
}
