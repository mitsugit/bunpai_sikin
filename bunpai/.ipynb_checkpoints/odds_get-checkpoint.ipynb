{
 "cells": [
  {
   "cell_type": "code",
   "execution_count": 5,
   "metadata": {},
   "outputs": [],
   "source": [
    "import pandas as pd\n",
    "import numpy as np \n",
    "from datetime import datetime as dt\n",
    "from time import sleep\n",
    "import copy\n",
    "# !pip install openpyxl\n",
    "import openpyxl\n",
    "import urllib.request\n",
    "from bs4 import BeautifulSoup\n",
    "import time\n",
    "from selenium import webdriver\n",
    "from selenium.webdriver.common.keys import Keys\n",
    "from selenium.webdriver.chrome.options import Options\n",
    "import requests\n",
    "# import lxml.html as parser\n",
    "import re\n",
    "import pprint\n",
    "\n",
    "import math\n",
    "\n",
    "# import urllib2\n",
    "# import pandas as pd\n",
    "\n",
    "import lxml.html"
   ]
  },
  {
   "cell_type": "code",
   "execution_count": 6,
   "metadata": {},
   "outputs": [
    {
     "name": "stderr",
     "output_type": "stream",
     "text": [
      "/Users/macbookpro/.pyenv/versions/3.6.5/lib/python3.6/site-packages/ipykernel_launcher.py:11: DeprecationWarning: use options instead of chrome_options\n",
      "  # This is added back by InteractiveShellApp.init_path()\n"
     ]
    }
   ],
   "source": [
    "# オプションを作成\n",
    "options = Options()\n",
    "# Google Chrome Canaryのパスを指定\n",
    "options.binary_location = '/Applications/Google Chrome Canary.app/Contents/MacOS/Google Chrome Canary'\n",
    "\n",
    "# ヘッドレスブラウザ指定\n",
    "options.add_argument('--headless')\n",
    "# ChromeDriverのパスとオプションをつけてwebdriverを作成\n",
    "\n",
    "driver_path = \"/Users/macbookpro/dev/newsikinbunpai/bunpai/chromedriver\"\n",
    "driver = webdriver.Chrome(driver_path, chrome_options=options)"
   ]
  },
  {
   "cell_type": "code",
   "execution_count": 7,
   "metadata": {},
   "outputs": [],
   "source": [
    "\n",
    "url = \"https://race.netkeiba.com/?pid=race_list\"\n",
    "\n",
    "html = urllib.request.urlopen(url)\n",
    "\n",
    "# xpath指定できるようにlxml用にhtml2を作成\n",
    "\n",
    "html2 = urllib.request.urlopen(url)\n",
    "\n",
    "soup = BeautifulSoup(html, \"html.parser\")\n",
    "\n",
    "dom = lxml.html.fromstring(html2.read())"
   ]
  },
  {
   "cell_type": "code",
   "execution_count": 8,
   "metadata": {},
   "outputs": [
    {
     "data": {
      "text/plain": [
       "['05/25(土)', '05/26(日)', '06/01(土)', '06/02(日)']"
      ]
     },
     "execution_count": 8,
     "metadata": {},
     "output_type": "execute_result"
    }
   ],
   "source": [
    "# soup.find(id=\"race_list_header\").text.strip(\"\\n\")\n",
    "pre_kaisaibi_list=soup.select(\".DateList_Box\")[0].select(\"a\")\n",
    "\n",
    "kaisaibi_list = []\n",
    "for i in pre_kaisaibi_list:\n",
    "    kaisaibi_list.append(i.text)\n",
    "kaisaibi_list"
   ]
  },
  {
   "cell_type": "code",
   "execution_count": 9,
   "metadata": {},
   "outputs": [],
   "source": [
    "target_kaisai = \"3回阪神2日目\"\n",
    "target_race = \"11\""
   ]
  },
  {
   "cell_type": "code",
   "execution_count": 10,
   "metadata": {},
   "outputs": [],
   "source": [
    "kaisai_list = []\n",
    "kaisaidata = soup.select('p[class=\"kaisaidata\"]')\n",
    "\n",
    "    "
   ]
  },
  {
   "cell_type": "code",
   "execution_count": 11,
   "metadata": {},
   "outputs": [],
   "source": [
    "for i in range(len(kaisaidata)):\n",
    "    kaisai_list.append((kaisaidata[i].text))"
   ]
  },
  {
   "cell_type": "code",
   "execution_count": 12,
   "metadata": {},
   "outputs": [
    {
     "data": {
      "text/plain": [
       "['3回東京2日目', '3回阪神2日目']"
      ]
     },
     "execution_count": 12,
     "metadata": {},
     "output_type": "execute_result"
    }
   ],
   "source": [
    "kaisai_list"
   ]
  },
  {
   "cell_type": "code",
   "execution_count": 13,
   "metadata": {},
   "outputs": [
    {
     "name": "stdout",
     "output_type": "stream",
     "text": [
      "kaisai_list ['3回東京2日目', '3回阪神2日目']\n"
     ]
    }
   ],
   "source": [
    "print(\"kaisai_list\",kaisai_list)"
   ]
  },
  {
   "cell_type": "code",
   "execution_count": 14,
   "metadata": {},
   "outputs": [],
   "source": [
    "# # 開催辞書を作成（参考）\n",
    "# ninki_list = []\n",
    "# ninki_dict = {}\n",
    "# for i, _s in enumerate(kaisai_list):\n",
    "# #     print(i+1,\"番人気\", _s,\"倍\")\n",
    "#     ninki_list.append(\"ninki_\"+str(i+1))\n",
    "#     ninki_dict.update({ninki_list[i]  :  _s})"
   ]
  },
  {
   "cell_type": "code",
   "execution_count": 15,
   "metadata": {},
   "outputs": [],
   "source": [
    "# 開催辞書を作成（参考）\n",
    "namae_list = []\n",
    "kaisai_dict = {}\n",
    "for i, _s in enumerate(kaisai_list):\n",
    "    namae_list.append(\"kaisai_\"+str(i+1))\n",
    "    kaisai_dict.update({namae_list[i] : _s})\n",
    "\n",
    "#     print(i+1,\"番人気\", _s,\"倍\")\n",
    "#     nanban.append(\"ninki_\"+str(i+1))\n",
    "#     ninki_dict.update({ninki_list[i]  :  _s})"
   ]
  },
  {
   "cell_type": "code",
   "execution_count": 17,
   "metadata": {},
   "outputs": [
    {
     "data": {
      "text/plain": [
       "dict_keys(['kaisai_1', 'kaisai_2'])"
      ]
     },
     "execution_count": 17,
     "metadata": {},
     "output_type": "execute_result"
    }
   ],
   "source": [
    "kaisai_dict.keys()"
   ]
  },
  {
   "cell_type": "code",
   "execution_count": null,
   "metadata": {},
   "outputs": [],
   "source": []
  },
  {
   "cell_type": "code",
   "execution_count": 26,
   "metadata": {},
   "outputs": [],
   "source": [
    "counter = 0\n",
    "\n",
    "for i in kaisai_list:\n",
    "    \n",
    "    if target_kaisai in i:\n",
    "        kai = counter\n",
    "        break\n",
    "    else:\n",
    "        kai = \"\"\n",
    "    counter += 1\n"
   ]
  },
  {
   "cell_type": "code",
   "execution_count": 27,
   "metadata": {
    "scrolled": true
   },
   "outputs": [
    {
     "name": "stdout",
     "output_type": "stream",
     "text": [
      "1\n"
     ]
    }
   ],
   "source": [
    "if kai != \"\":\n",
    "    print(kai)"
   ]
  },
  {
   "cell_type": "code",
   "execution_count": 28,
   "metadata": {},
   "outputs": [
    {
     "data": {
      "text/plain": [
       "2"
      ]
     },
     "execution_count": 28,
     "metadata": {},
     "output_type": "execute_result"
    }
   ],
   "source": [
    "kai += 1\n",
    "kai"
   ]
  },
  {
   "cell_type": "code",
   "execution_count": 29,
   "metadata": {},
   "outputs": [],
   "source": [
    " kai = str(kai)"
   ]
  },
  {
   "cell_type": "code",
   "execution_count": 31,
   "metadata": {},
   "outputs": [
    {
     "ename": "TypeError",
     "evalue": "must be str, not int",
     "output_type": "error",
     "traceback": [
      "\u001b[0;31m---------------------------------------------------------------------------\u001b[0m",
      "\u001b[0;31mTypeError\u001b[0m                                 Traceback (most recent call last)",
      "\u001b[0;32m<ipython-input-31-5bca52d442da>\u001b[0m in \u001b[0;36m<module>\u001b[0;34m\u001b[0m\n\u001b[1;32m      1\u001b[0m \u001b[0mkai\u001b[0m\u001b[0;34m\u001b[0m\u001b[0m\n\u001b[1;32m      2\u001b[0m \u001b[0mkai\u001b[0m \u001b[0;34m=\u001b[0m \u001b[0;34m\"\"\u001b[0m\u001b[0;34m\u001b[0m\u001b[0m\n\u001b[0;32m----> 3\u001b[0;31m \u001b[0mkai\u001b[0m \u001b[0;34m+=\u001b[0m \u001b[0;36m1\u001b[0m\u001b[0;34m\u001b[0m\u001b[0m\n\u001b[0m",
      "\u001b[0;31mTypeError\u001b[0m: must be str, not int"
     ]
    }
   ],
   "source": []
  },
  {
   "cell_type": "code",
   "execution_count": 14,
   "metadata": {},
   "outputs": [],
   "source": [
    "\n",
    "\n",
    "# dom.xpath('//*[@id=\"race_list_body\"]/div[1]/dl[1]/dd/ul/li[3]/dl/dt/a/img/@alt')\n",
    "# dom.xpath('//*[@id=\"race_list_body\"]/div[1]/'+'dl['+kai+']//div[@class=\"racename\"]/a')\n",
    "\n",
    "\n",
    "#xpathを見比べて可変すべき要素を検討する\n",
    "#dl[ ]が開催場、li[ ]がレース数によって変わることを確認\n",
    "\n",
    "# １列目の一行目\n",
    "'//*[@id=\"race_list_body\"]/div[1]/dl[1]/dd/ul/li[1]/dl/dd/div[1]/a'\n",
    "# ２列目の一行目\n",
    "'//*[@id=\"race_list_body\"]/div[1]/dl[2]/dd/ul/li[1]/dl/dd/div[1]/a'\n",
    "# １列目の2行目\n",
    "'//*[@id=\"race_list_body\"]/div[1]/dl[1]/dd/ul/li[2]/dl/dd/div[1]/a'\n",
    "\n",
    "\n",
    "#　可変できるように、xpathの切り分けをする\n",
    "\n",
    "base_left = '//*[@id=\"race_list_body\"]/div[1]/dl['\n",
    "base_middle = ']/dd/ul/li['\n",
    "base_right = ']/dl/dt/a/img/@alt'\n",
    "\n",
    "base_href = ']/dl/dd/div[1]/a/@href'"
   ]
  },
  {
   "cell_type": "code",
   "execution_count": 15,
   "metadata": {},
   "outputs": [
    {
     "data": {
      "text/plain": [
       "4"
      ]
     },
     "execution_count": 15,
     "metadata": {},
     "output_type": "execute_result"
    }
   ],
   "source": [
    "# dom.xpath('//p[@class=\"kaisaidata\"][contains(text(),\"京都\")]')[0].text\n",
    "# dom.xpath('//p[@class=\"kaisaidata\"][contains(text(),target_kaisai)]')[0].text\n",
    "# dom.xpath('//*[@id=\"race_list_body\"]/div[1]/'+'dl['+kai+']/dd/div[1]/a)\n",
    "# //*[@id=\"race_list_body\"]/div[1]/dl[1]/dd/ul/li[1]/dl/dd/div[1]/a\n",
    "\n",
    "# print('//*[@id=\"race_list_body\"]/div[1]/'+'dl['+kai+']/dd/ul/li[1]/dl/dd/div[1]/a')\n",
    "# dom.xpath('//*[@id=\"race_list_body\"]/div[1]/'+'dl['+kai+']/dd/ul/li[1]/dl/dd/div[1]/a')[0].text\n",
    "# dom.xpath('//*[@id=\"race_list_body\"]/div[1]/'+'dl['+kai+']//div[@class=\"racename\"]/a/@href')\n",
    "\n",
    "\n",
    "\n",
    "# 平日に実行すると、４レースしか表示されない等になるため、対象の開催場のレース数を確認する\n",
    "howmany_race = len(dom.xpath('//*[@id=\"race_list_body\"]/div[1]/'+'dl['+kai+']//div[@class=\"racename\"]/a/@href'))\n",
    "howmany_race"
   ]
  },
  {
   "cell_type": "code",
   "execution_count": 16,
   "metadata": {},
   "outputs": [
    {
     "name": "stdout",
     "output_type": "stream",
     "text": [
      "1\n",
      "9R\n",
      "2\n",
      "10R\n",
      "3\n",
      "11R\n",
      "4\n",
      "12R\n"
     ]
    }
   ],
   "source": [
    "# 　現時点で表示されているレースのリストを作成\n",
    "\n",
    "number_race_list = []\n",
    "for i in range(howmany_race):\n",
    "    print(str(i+1))\n",
    "    position = str(i+1)\n",
    "    print(dom.xpath(base_left + kai + base_middle + position + base_right)[0])\n",
    "    number_race = dom.xpath(base_left + kai + base_middle + position + base_right)[0]\n",
    "    number_race_list.append(number_race)\n",
    "    \n",
    "    "
   ]
  },
  {
   "cell_type": "code",
   "execution_count": 17,
   "metadata": {},
   "outputs": [],
   "source": [
    "# レースからRの文字を取り除く\n",
    "number_race_list = [i.replace(\"R\",\"\") for i in number_race_list]"
   ]
  },
  {
   "cell_type": "code",
   "execution_count": 18,
   "metadata": {},
   "outputs": [],
   "source": [
    "#　target_race がリストの何番目にあるかを表示\n",
    "\n",
    "nanbanme = number_race_list.index(target_race) + 1\n",
    "nanbanme = str(nanbanme)"
   ]
  },
  {
   "cell_type": "code",
   "execution_count": null,
   "metadata": {},
   "outputs": [],
   "source": []
  },
  {
   "cell_type": "code",
   "execution_count": 19,
   "metadata": {},
   "outputs": [
    {
     "data": {
      "text/plain": [
       "'https://race.netkeiba.com//?pid=race_old&id=c201905030211'"
      ]
     },
     "execution_count": 19,
     "metadata": {},
     "output_type": "execute_result"
    }
   ],
   "source": [
    "# 対象レースのURLを取得する\n",
    "race_url = dom.xpath(base_left + kai + base_middle + nanbanme + base_href )[0]\n",
    "\n",
    "race_link=\"https://race.netkeiba.com/\"+race_url\n",
    "\n",
    "race_link"
   ]
  },
  {
   "cell_type": "code",
   "execution_count": 20,
   "metadata": {},
   "outputs": [
    {
     "data": {
      "text/plain": [
       "'https://race.netkeiba.com//?pid=race_old&id=c201905030211'"
      ]
     },
     "execution_count": 20,
     "metadata": {},
     "output_type": "execute_result"
    }
   ],
   "source": [
    "race_link"
   ]
  },
  {
   "cell_type": "code",
   "execution_count": null,
   "metadata": {},
   "outputs": [],
   "source": []
  },
  {
   "cell_type": "code",
   "execution_count": 21,
   "metadata": {},
   "outputs": [],
   "source": [
    "url2 = race_link"
   ]
  },
  {
   "cell_type": "code",
   "execution_count": 22,
   "metadata": {},
   "outputs": [],
   "source": [
    "html3 = urllib.request.urlopen(url2)\n",
    "\n",
    "\n",
    "\n",
    "html4 = urllib.request.urlopen(url2)\n",
    "\n",
    "soup = BeautifulSoup(html3, \"html.parser\")\n",
    "\n",
    "dom = lxml.html.fromstring(html4.read())"
   ]
  },
  {
   "cell_type": "code",
   "execution_count": 23,
   "metadata": {},
   "outputs": [
    {
     "data": {
      "text/plain": [
       "'/?pid=odds&id=c201905030211&mode=top'"
      ]
     },
     "execution_count": 23,
     "metadata": {},
     "output_type": "execute_result"
    }
   ],
   "source": [
    "odds_page=soup.select('.race_navi_odds')[0].a.get(\"href\")\n",
    "odds_page"
   ]
  },
  {
   "cell_type": "code",
   "execution_count": 24,
   "metadata": {},
   "outputs": [
    {
     "data": {
      "text/plain": [
       "'https://race.netkeiba.com//?pid=odds&id=c201905030211&mode=top'"
      ]
     },
     "execution_count": 24,
     "metadata": {},
     "output_type": "execute_result"
    }
   ],
   "source": [
    "url3=\"https://race.netkeiba.com/\"+ odds_page\n",
    "url3"
   ]
  },
  {
   "cell_type": "code",
   "execution_count": 25,
   "metadata": {},
   "outputs": [],
   "source": [
    "html5 = urllib.request.urlopen(url3)\n",
    "\n",
    "# xpath指定できるようにlxml用にhtml2を作成\n",
    "\n",
    "html6 = urllib.request.urlopen(url3)\n",
    "\n",
    "soup = BeautifulSoup(html5, \"html.parser\")\n",
    "\n",
    "dom = lxml.html.fromstring(html6.read())"
   ]
  },
  {
   "cell_type": "code",
   "execution_count": 26,
   "metadata": {},
   "outputs": [],
   "source": [
    "driver.get(url3)"
   ]
  },
  {
   "cell_type": "code",
   "execution_count": 27,
   "metadata": {},
   "outputs": [],
   "source": [
    "#下記だと、当日以外は機能しないため、別の方法を考える\n",
    "# tan_odds_list = driver.find_elements_by_xpath(\"//td[contains(@axis,'oddsDataTan')]\")\n",
    "\n",
    "#もし下記コマンドでエラーになるようであれば、当日用とそれ以外で分岐を検討する\n",
    "tan_odds_list=driver.find_elements_by_class_name(\"txt_r\")\n",
    "\n"
   ]
  },
  {
   "cell_type": "code",
   "execution_count": 28,
   "metadata": {},
   "outputs": [],
   "source": [
    "tan_odds_list = [i.text for i in tan_odds_list]"
   ]
  },
  {
   "cell_type": "code",
   "execution_count": 51,
   "metadata": {},
   "outputs": [],
   "source": [
    "\n",
    "tan_odds_list = [float(i) for i in tan_odds_list]"
   ]
  },
  {
   "cell_type": "code",
   "execution_count": 52,
   "metadata": {},
   "outputs": [
    {
     "data": {
      "text/plain": [
       "[1.7,\n",
       " 2.7,\n",
       " 10.3,\n",
       " 13.1,\n",
       " 15.6,\n",
       " 23.4,\n",
       " 33.3,\n",
       " 45.7,\n",
       " 53.7,\n",
       " 79.1,\n",
       " 81.8,\n",
       " 81.9,\n",
       " 100.6,\n",
       " 160.6,\n",
       " 374.0,\n",
       " 380.0,\n",
       " 493.4]"
      ]
     },
     "execution_count": 52,
     "metadata": {},
     "output_type": "execute_result"
    }
   ],
   "source": [
    "tan_odds_list"
   ]
  },
  {
   "cell_type": "code",
   "execution_count": 30,
   "metadata": {},
   "outputs": [],
   "source": [
    "# 関数化"
   ]
  },
  {
   "cell_type": "code",
   "execution_count": 31,
   "metadata": {},
   "outputs": [],
   "source": [
    "def odds_page(url2):\n",
    "    html3 = urllib.request.urlopen(url2)\n",
    "\n",
    "    soup = BeautifulSoup(html3, \"html.parser\")\n",
    "\n",
    "    odds_page=soup.select('.race_navi_odds')[0].a.get(\"href\")\n",
    "\n",
    "    url3=\"https://race.netkeiba.com/\"+ odds_page\n",
    "\n",
    "    return url3"
   ]
  },
  {
   "cell_type": "code",
   "execution_count": 53,
   "metadata": {},
   "outputs": [],
   "source": [
    "def get_info(url3):\n",
    "    html3 = urllib.request.urlopen(url3)\n",
    "\n",
    "\n",
    "    driver.get(url3)\n",
    "\n",
    "\n",
    "\n",
    "    #下記だと、当日以外は機能しないため、別の方法を考える\n",
    "    # tan_odds_list = driver.find_elements_by_xpath(\"//td[contains(@axis,'oddsDataTan')]\")\n",
    "    tan_odds_list=driver.find_elements_by_class_name(\"txt_r\")\n",
    "\n",
    "    tan_odds_list = [i.text for i in tan_odds_list]\n",
    "    \n",
    "    tan_odds_list = [float(i) for i in tan_odds_list]\n",
    "\n",
    "\n",
    "    return  tan_odds_list\n"
   ]
  },
  {
   "cell_type": "code",
   "execution_count": 115,
   "metadata": {},
   "outputs": [],
   "source": [
    "# 人気に対応するオッズの辞書を作成しておく\n",
    "\n",
    "ninki_list = []\n",
    "ninki_dict = {}\n",
    "for i, _s in enumerate(tan_odds_list):\n",
    "#     print(i+1,\"番人気\", _s,\"倍\")\n",
    "    ninki_list.append(\"ninki_\"+str(i+1))\n",
    "    ninki_dict.update({ninki_list[i]  :  _s})"
   ]
  },
  {
   "cell_type": "code",
   "execution_count": 117,
   "metadata": {},
   "outputs": [
    {
     "name": "stdout",
     "output_type": "stream",
     "text": [
      "13.1\n",
      "10.3\n"
     ]
    },
    {
     "data": {
      "text/plain": [
       "[13.1, 10.3]"
      ]
     },
     "execution_count": 117,
     "metadata": {},
     "output_type": "execute_result"
    }
   ],
   "source": [
    "# ターゲット人気のリストから新たに、ターゲットオッズのリストを作成する\n",
    "\n",
    "\n",
    "bet_target_list = [\"ninki_2\",\"ninki_4\"]\n",
    "\n",
    "target_odds_list = []\n",
    "for i in bet_target_list:\n",
    "    print(ninki_dict[i])\n",
    "    target_odds_list.append(ninki_dict[i])\n",
    "    \n",
    "target_odds_list"
   ]
  },
  {
   "cell_type": "code",
   "execution_count": null,
   "metadata": {},
   "outputs": [],
   "source": []
  },
  {
   "cell_type": "code",
   "execution_count": null,
   "metadata": {},
   "outputs": [],
   "source": []
  },
  {
   "cell_type": "code",
   "execution_count": 58,
   "metadata": {},
   "outputs": [],
   "source": [
    "budget = 10000\n",
    "def gouseiodds(tan_odds_list,budget):\n",
    "    B_list = []\n",
    "    A = tan_odds_list[0]*100\n",
    " \n",
    "    #return A\n",
    "    for i in tan_odds_list:\n",
    "        B_list.append(A/i)\n",
    "    #print(B_list)\n",
    "    C = [A/H for H in tan_odds_list]\n",
    "    #print(C)\n",
    "    C = [math.floor(A/H) for H in tan_odds_list]\n",
    "    #print(C)\n",
    "    C = sum([math.floor(A/H)  for  H in tan_odds_list])  #小数切り捨て\n",
    "    #print(C)\n",
    "    gouseiodds = A/C\n",
    "    #print(gouseiodds)\n",
    "    gouseiodds = ('{:.2f}'.format(gouseiodds))   #小数点３位以下四捨五入\n",
    "    return gouseiodds"
   ]
  },
  {
   "cell_type": "code",
   "execution_count": null,
   "metadata": {},
   "outputs": [],
   "source": []
  },
  {
   "cell_type": "code",
   "execution_count": 87,
   "metadata": {},
   "outputs": [],
   "source": [
    "def rafine(target_odds_list,budget):\n",
    "\n",
    "\n",
    "    odds = target_odds_list\n",
    "\n",
    "    each_bet = []\n",
    "\n",
    "    C = 0\n",
    "\n",
    "    # リスト内の最小値を取得し、１００を乗じる\n",
    "    A = min(odds) * 100\n",
    "\n",
    "    print(A)\n",
    "    # 資金を分配する\n",
    "\n",
    "\n",
    "    budget = int(budget)\n",
    "\n",
    "    # オッズの最小値を各オッズで割ったものをリスト化する\n",
    "    B_list = [A / i for i in odds]\n",
    "\n",
    "    # 小数切り捨て\n",
    "    B_list = list(map(lambda x: math.floor(x), B_list))\n",
    "\n",
    "    print(B_list)\n",
    "\n",
    "    C = sum(B_list)\n",
    "\n",
    "    print(\"C\", C)\n",
    "    ratio = [B_list[i] / C * 100 for i in range(0, len(B_list))]\n",
    "\n",
    "    ratio = np.round(ratio, 1)\n",
    "\n",
    "    print(\"ratio\", ratio)\n",
    "\n",
    "    # for i in ratio:\n",
    "    #     each_bet.append(np.round(budget*i/100,-2))\n",
    "\n",
    "    each_bet = [np.round(budget * i / 100, -2) for i in ratio]\n",
    "\n",
    "\n",
    "    return_list = [xx * yy for (xx,yy) in zip(each_bet,target_odds_list)]\n",
    "\n",
    "\n",
    "\n",
    "    print(each_bet)\n",
    "\n",
    "    print(sum(each_bet))\n",
    "\n",
    "    total_bet = sum(each_bet)\n",
    "\n",
    "    profit_list = [x-total_bet for x in return_list]\n",
    "\n",
    "    print(profit_list)\n",
    "    return ratio,each_bet,return_list,total_bet,profit_list"
   ]
  },
  {
   "cell_type": "code",
   "execution_count": null,
   "metadata": {},
   "outputs": [],
   "source": []
  },
  {
   "cell_type": "code",
   "execution_count": 33,
   "metadata": {},
   "outputs": [],
   "source": [
    "url3 = odds_page(url2)"
   ]
  },
  {
   "cell_type": "code",
   "execution_count": 34,
   "metadata": {},
   "outputs": [
    {
     "data": {
      "text/plain": [
       "['1.7',\n",
       " '2.7',\n",
       " '10.3',\n",
       " '13.1',\n",
       " '15.6',\n",
       " '23.4',\n",
       " '33.3',\n",
       " '45.7',\n",
       " '53.7',\n",
       " '79.1',\n",
       " '81.7',\n",
       " '81.9',\n",
       " '100.7',\n",
       " '160.6',\n",
       " '374.2',\n",
       " '380.1',\n",
       " '493.6']"
      ]
     },
     "execution_count": 34,
     "metadata": {},
     "output_type": "execute_result"
    }
   ],
   "source": [
    "get_info(url3)"
   ]
  },
  {
   "cell_type": "code",
   "execution_count": 60,
   "metadata": {},
   "outputs": [
    {
     "data": {
      "text/plain": [
       "'0.75'"
      ]
     },
     "execution_count": 60,
     "metadata": {},
     "output_type": "execute_result"
    }
   ],
   "source": [
    "gouseiodds(target_odds_list,budget)"
   ]
  },
  {
   "cell_type": "code",
   "execution_count": 96,
   "metadata": {},
   "outputs": [],
   "source": []
  },
  {
   "cell_type": "code",
   "execution_count": 97,
   "metadata": {},
   "outputs": [
    {
     "data": {
      "text/plain": [
       "{'ninki_1': 2.7, 'ninki_2': 10.3, 'ninki_3': 13.1, 'ninki_4': 15.6}"
      ]
     },
     "execution_count": 97,
     "metadata": {},
     "output_type": "execute_result"
    }
   ],
   "source": [
    "ninki_dict"
   ]
  },
  {
   "cell_type": "code",
   "execution_count": 114,
   "metadata": {},
   "outputs": [
    {
     "name": "stdout",
     "output_type": "stream",
     "text": [
      "10.3\n",
      "15.6\n"
     ]
    },
    {
     "data": {
      "text/plain": [
       "[10.3, 15.6]"
      ]
     },
     "execution_count": 114,
     "metadata": {},
     "output_type": "execute_result"
    }
   ],
   "source": []
  },
  {
   "cell_type": "code",
   "execution_count": 108,
   "metadata": {},
   "outputs": [],
   "source": [
    "driver.quit()"
   ]
  },
  {
   "cell_type": "code",
   "execution_count": 109,
   "metadata": {},
   "outputs": [
    {
     "name": "stdout",
     "output_type": "stream",
     "text": [
      "1030.0\n",
      "[100, 66]\n",
      "C 166\n",
      "ratio [60.2 39.8]\n",
      "[6000.0, 4000.0]\n",
      "10000.0\n",
      "[51800.00000000001, 52400.0]\n"
     ]
    }
   ],
   "source": [
    "ratio,each_bet,return_list,total_bet,profit_list = rafine(target_ninki_list,budget)"
   ]
  },
  {
   "cell_type": "code",
   "execution_count": 110,
   "metadata": {},
   "outputs": [
    {
     "data": {
      "text/plain": [
       "[6000.0, 4000.0]"
      ]
     },
     "execution_count": 110,
     "metadata": {},
     "output_type": "execute_result"
    }
   ],
   "source": [
    "each_bet"
   ]
  },
  {
   "cell_type": "code",
   "execution_count": 111,
   "metadata": {},
   "outputs": [
    {
     "data": {
      "text/plain": [
       "[10.3, 13.1, 15.6]"
      ]
     },
     "execution_count": 111,
     "metadata": {},
     "output_type": "execute_result"
    }
   ],
   "source": [
    "tan_odds_list"
   ]
  },
  {
   "cell_type": "code",
   "execution_count": null,
   "metadata": {},
   "outputs": [],
   "source": []
  }
 ],
 "metadata": {
  "kernelspec": {
   "display_name": "Python 3",
   "language": "python",
   "name": "python3"
  },
  "language_info": {
   "codemirror_mode": {
    "name": "ipython",
    "version": 3
   },
   "file_extension": ".py",
   "mimetype": "text/x-python",
   "name": "python",
   "nbconvert_exporter": "python",
   "pygments_lexer": "ipython3",
   "version": "3.6.5"
  }
 },
 "nbformat": 4,
 "nbformat_minor": 2
}
